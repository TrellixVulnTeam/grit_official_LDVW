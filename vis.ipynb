{
 "cells": [
  {
   "cell_type": "code",
   "execution_count": null,
   "metadata": {},
   "outputs": [],
   "source": [
    "import os\n",
    "import sys\n",
    "module_path = os.path.abspath('.')\n",
    "if module_path not in sys.path:\n",
    "    sys.path.append(module_path)"
   ]
  },
  {
   "cell_type": "code",
   "execution_count": null,
   "metadata": {},
   "outputs": [],
   "source": [
    "import hydra\n",
    "import copy\n",
    "\n",
    "import utils.io as io\n",
    "from utils.rle import encode, decode\n",
    "from grit_paths import GritPaths\n",
    "import utils.vis as vis\n",
    "from utils.vis import grit_viz, GritIO, GritIOType"
   ]
  },
  {
   "cell_type": "code",
   "execution_count": null,
   "metadata": {},
   "outputs": [],
   "source": [
    "with hydra.initialize_config_dir(config_dir=f'{module_path}/configs'):\n",
    "    cfg = hydra.compose('default')\n",
    "\n",
    "cfg.job_name = 'vis'\n",
    "io.mkdir_if_not_exists(cfg.job_dir)"
   ]
  },
  {
   "cell_type": "code",
   "execution_count": null,
   "metadata": {},
   "outputs": [],
   "source": [
    "grit_pths = GritPaths(cfg.grit.base)"
   ]
  },
  {
   "cell_type": "code",
   "execution_count": null,
   "metadata": {},
   "outputs": [],
   "source": [
    "#samples = io.load_json_object(grit_pths.samples('localization','ablation'))"
   ]
  },
  {
   "cell_type": "code",
   "execution_count": null,
   "metadata": {},
   "outputs": [],
   "source": [
    "sample = io.load_json_object('data/seg_example.json')\n",
    "display(sample)"
   ]
  },
  {
   "cell_type": "code",
   "execution_count": null,
   "metadata": {},
   "outputs": [],
   "source": [
    "masks = [decode(rle) for rle in sample['output']['masks']]"
   ]
  },
  {
   "cell_type": "code",
   "execution_count": null,
   "metadata": {},
   "outputs": [],
   "source": [
    "image_pth = os.path.join('/home/tanmayg/Data/grit_data/images',sample['input']['image_id'])\n",
    "img = vis.read_image(image_pth)\n",
    "vis.display_thumbnail(img,max_size=(200,200))"
   ]
  },
  {
   "cell_type": "code",
   "execution_count": null,
   "metadata": {},
   "outputs": [],
   "source": [
    "gt_boxes = sample['output']['bboxes']\n",
    "pred_boxes = [[12,18,120,95]]"
   ]
  },
  {
   "cell_type": "code",
   "execution_count": null,
   "metadata": {},
   "outputs": [],
   "source": [
    "img_,text = grit_viz(img, GritIO(text=sample['input']['task_query']), GritIOType.INPUT)\n",
    "img_,text = grit_viz(img_, GritIO(boxes=gt_boxes,segs=masks,text=['toilet','seat']), GritIOType.GT, text)\n",
    "img_,text = grit_viz(img_, GritIO(boxes=pred_boxes), GritIOType.PRED, text)\n",
    "vis.display_image(img_)\n",
    "display(text)"
   ]
  },
  {
   "cell_type": "markdown",
   "metadata": {},
   "source": [
    "Updating GritIOType changes visualization behavior - eg. for changing mask/box colors"
   ]
  },
  {
   "cell_type": "code",
   "execution_count": null,
   "metadata": {},
   "outputs": [],
   "source": [
    "GritIOType.GT.seg_colors = [(255,0,0)]*100\n",
    "GritIOType.PRED.seg_colors = [(0,255,0)]*100"
   ]
  },
  {
   "cell_type": "code",
   "execution_count": null,
   "metadata": {},
   "outputs": [],
   "source": [
    "img_,text = grit_viz(img, GritIO(segs=masks), GritIOType.GT)\n",
    "vis.display_image(img_)\n",
    "display(text)"
   ]
  }
 ],
 "metadata": {
  "interpreter": {
   "hash": "597bda04a568a799090d104fdaaff1de7cadffe65259c53e4dce9c31e737b429"
  },
  "kernelspec": {
   "display_name": "Python 3.9.7 ('grit_official')",
   "language": "python",
   "name": "python3"
  },
  "language_info": {
   "codemirror_mode": {
    "name": "ipython",
    "version": 3
   },
   "file_extension": ".py",
   "mimetype": "text/x-python",
   "name": "python",
   "nbconvert_exporter": "python",
   "pygments_lexer": "ipython3",
   "version": "3.9.7"
  },
  "orig_nbformat": 4
 },
 "nbformat": 4,
 "nbformat_minor": 2
}
